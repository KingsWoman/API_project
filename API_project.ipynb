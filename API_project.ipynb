{
 "cells": [
  {
   "cell_type": "markdown",
   "id": "a8bdbab2",
   "metadata": {},
   "source": [
    " выведите на экран курс турецкой лиры с указанием наименования валюты"
   ]
  },
  {
   "cell_type": "code",
   "execution_count": 39,
   "id": "778db61a",
   "metadata": {},
   "outputs": [
    {
     "name": "stdout",
     "output_type": "stream",
     "text": [
      "53.5745\n"
     ]
    }
   ],
   "source": [
    "from json import load\n",
    "from urllib.request import urlopen\n",
    "information = load(urlopen('https://www.cbr-xml-daily.ru/daily_json.js'))\n",
    "print(information['Valute']['TRY']['Value'])"
   ]
  },
  {
   "cell_type": "markdown",
   "id": "61b80c8b",
   "metadata": {},
   "source": [
    "Создайте приложение, которое по запросу пользователя извлекает нужную информацию, используя API землетрясений."
   ]
  },
  {
   "cell_type": "code",
   "execution_count": 43,
   "id": "fa899e1b",
   "metadata": {},
   "outputs": [
    {
     "name": "stdout",
     "output_type": "stream",
     "text": [
      "Начальная дата - : 2019-01-01\n",
      "Конечная дата - : 2019-05-01\n",
      "Координаты по широте : 56\n",
      "Координаты по длинне : 60\n",
      "Радиус : 2000\n",
      "Минимальная магнитуда : 2\n",
      "1. Place: 77 km NW of Türkmenba?y, Turkmenistan. Magnitude: 4.2\n",
      "2. Place: 40 km NE of Huocheng, China. Magnitude: 4\n",
      "3. Place: 7 km NW of Çinarl?, Azerbaijan. Magnitude: 4.2\n",
      "4. Place: 89 km NNE of Pirallah?, Azerbaijan. Magnitude: 4.1\n",
      "5. Place: 125 km NW of Türkmenba?y, Turkmenistan. Magnitude: 4.6\n",
      "6. Place: 18 km WSW of Saryaghash, Kazakhstan. Magnitude: 4.8\n",
      "7. Place: 23 km NE of Basqal, Azerbaijan. Magnitude: 5\n",
      "8. Place: 23 km NE of Basqal, Azerbaijan. Magnitude: 4.6\n",
      "9. Place: 117 km SSW of T?ghyl, Kazakhstan. Magnitude: 5.3\n"
     ]
    }
   ],
   "source": [
    "import requests\n",
    "beginning = input(\"Начальная дата - : \")\n",
    "over = input(\"Конечная дата - : \")\n",
    "breadth = input(\"Координаты по широте : \")\n",
    "longitude = input(\"Координаты по длинне : \")\n",
    "radius = input(\"Радиус : \")\n",
    "min_mag = input(\"Минимальная магнитуда : \")\n",
    "url = 'https://earthquake.usgs.gov/fdsnws/event/1/query?'\n",
    "answer = requests.get(url, headers={'Accept':'application/json'}, params={\n",
    "        'format':'geojson',\n",
    "        'starttime':beginning,\n",
    "        'endtime':over,\n",
    "        'latitude':breadth,    # координаты Лондона\n",
    "        'longitude':longitude,   # координаты Лондона\n",
    "        'maxradiuskm':radius,\n",
    "        'minmagnitude':min_mag\n",
    "\n",
    "})\n",
    "\n",
    "information = answer.json()\n",
    "calculate = information['metadata']['count']\n",
    "for i in range(calculate):\n",
    "    location = information['features'][i]['properties']['place']\n",
    "    magnetic = information['features'][i]['properties']['mag']\n",
    "    print(f'{i+1}. Place: {location}. Magnitude: {magnetic}')"
   ]
  },
  {
   "cell_type": "raw",
   "id": "0ddcff4f",
   "metadata": {},
   "source": [
    "Сделайте GET-запрос к http://jsonplaceholder.typicode.com/todos, извлеките из тела ответа JSON. \n",
    "Ваша задача: найти ID пользователя, который решил больше всего задач и вывести на экран его\n",
    "    ID и количество решённых заданий. Если пользователей несколько, выведите любого из них."
   ]
  },
  {
   "cell_type": "code",
   "execution_count": 44,
   "id": "79c824ec",
   "metadata": {},
   "outputs": [
    {
     "name": "stdout",
     "output_type": "stream",
     "text": [
      "ID пользователя - 1. Количество решенных задач - 20\n"
     ]
    }
   ],
   "source": [
    "import requests\n",
    "url = 'http://jsonplaceholder.typicode.com/todos'\n",
    "answer = requests.get(url)\n",
    "list_Id = [1]\n",
    "count_Id =[]\n",
    "meter = 0\n",
    "account = 0\n",
    "\n",
    "data = answer.json()\n",
    "for res in data:\n",
    "    if res['userId'] == list_Id[meter]:\n",
    "        account += 1\n",
    "    else:\n",
    "        count_Id.append(account)\n",
    "        list_Id.append(res['userId'])\n",
    "        meter += 1\n",
    "        account = 0\n",
    "        \n",
    "maximum = max(countId)\n",
    "id = 0\n",
    "for i in range(len(count_Id)):\n",
    "    if countId[i] == maximum:\n",
    "        id = i+1\n",
    "\n",
    "print(f'ID пользователя - {id}. Количество решенных задач - {maximum}')\n",
    "        "
   ]
  },
  {
   "cell_type": "markdown",
   "id": "b27a1590",
   "metadata": {},
   "source": [
    "GitHub API\n",
    "Ознакомьтесь с документацией GithubAPI/файл API_GitHub.ipynb\n",
    " С помощью этого API получите и выведите на экран логины пользователей с id в диапазоне от 101 до 110."
   ]
  },
  {
   "cell_type": "code",
   "execution_count": 45,
   "id": "6115c6dd",
   "metadata": {},
   "outputs": [
    {
     "name": "stdout",
     "output_type": "stream",
     "text": [
      "jvantuyl\n",
      "BrianTheCoder\n",
      "freeformz\n",
      "hassox\n",
      "automatthew\n",
      "queso\n",
      "lancecarlson\n",
      "drnic\n",
      "lukesutton\n",
      "danwrong\n"
     ]
    }
   ],
   "source": [
    "import requests\n",
    "url = 'https://api.github.com/users?since=100'\n",
    "answer = requests.get(url)\n",
    "information = answer.json()\n",
    "for i in information:\n",
    "    if (i[\"id\"] >= 101 and i[\"id\"] <= 110):\n",
    "        print(i['login'])"
   ]
  },
  {
   "cell_type": "markdown",
   "id": "72056c97",
   "metadata": {},
   "source": [
    "Владельцев одного крупного ТЦ с целью повышения рентабельности очень заинтересовали \n",
    "различные метрики об их клиентах. Для сбора информации был проведён сбор данных, результаты которого предоставили \n",
    "вам в CSV формате.\n",
    "Опираясь на данные из выборки, найдите средний годовой доход (Annual Income) мужчин (Gender) старше 30 лет (Age)."
   ]
  },
  {
   "cell_type": "code",
   "execution_count": 32,
   "id": "fb15d526",
   "metadata": {},
   "outputs": [
    {
     "name": "stdout",
     "output_type": "stream",
     "text": [
      "63.65\n"
     ]
    }
   ],
   "source": [
    "import csv\n",
    "\n",
    "result = []\n",
    "with open('MallCustomers.csv') as File:\n",
    "    reader = csv.DictReader(File)\n",
    "    for row in reader:\n",
    "        result.append(row)\n",
    "ordinary = 0\n",
    "count = 0\n",
    "for el in result:\n",
    "    if el[\"Gender\"] == \"Male\" and int(el[\"Age\"]) > 30:\n",
    "        ordinary += int(el['Annual Income (k$)'])\n",
    "        count+=1\n",
    "ordinary /= count\n",
    "print(ordinary)\n"
   ]
  }
 ],
 "metadata": {
  "kernelspec": {
   "display_name": "Python 3",
   "language": "python",
   "name": "python3"
  }
 },
 "nbformat": 4,
 "nbformat_minor": 5
}
